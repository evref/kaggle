{
 "cells": [
  {
   "cell_type": "markdown",
   "metadata": {},
   "source": [
    "# Titanic - Machine Learning from Disaster"
   ]
  },
  {
   "attachments": {},
   "cell_type": "markdown",
   "metadata": {},
   "source": [
    "### Load data"
   ]
  },
  {
   "cell_type": "code",
   "execution_count": 137,
   "metadata": {},
   "outputs": [],
   "source": [
    "import pandas as pd\n",
    "import numpy as np\n",
    "\n",
    "# Load data from files\n",
    "test_X = pd.read_csv('test.csv')\n",
    "train = pd.read_csv('train.csv')\n",
    "\n",
    "# Split data into X:parameters and y:output\n",
    "train_y = train[\"Survived\"]\n",
    "train_X = train.drop(columns=\"Survived\")"
   ]
  },
  {
   "attachments": {},
   "cell_type": "markdown",
   "metadata": {},
   "source": [
    "### Clean data"
   ]
  },
  {
   "cell_type": "code",
   "execution_count": 138,
   "metadata": {},
   "outputs": [],
   "source": [
    "# Function for cleaning data\n",
    "\n",
    "def clean_data(data: pd.core.frame.DataFrame) -> pd.core.frame.DataFrame:\n",
    "    \n",
    "    # Drop unnecessary columns\n",
    "    to_drop = [\"PassengerId\",\"Name\",\"SibSp\",\"Parch\",\"Ticket\",\"Fare\",\"Cabin\",\"Embarked\"]\n",
    "    data.drop(columns=to_drop, inplace=True)\n",
    "\n",
    "    # Rephrase male and female into discrete values between 0 and 1\n",
    "    data = data.replace(\"male\", 0)\n",
    "    data = data.replace(\"female\", 1)\n",
    "\n",
    "    # Calculate avg age to replace null values with\n",
    "    avg_age = round(sum(data[\"Age\"].dropna()) / len(data[\"Age\"].dropna()))\n",
    "    data[\"Age\"] = data[\"Age\"].fillna(avg_age)\n",
    "\n",
    "    # Calculate max values for normalization of columns\n",
    "    max_age = max(data[\"Age\"])\n",
    "    max_pclass = max(data[\"Pclass\"])\n",
    "\n",
    "    # Normalize values\n",
    "    data[\"Pclass\"] /= max_pclass\n",
    "    data[\"Age\"] /= max_age\n",
    "\n",
    "    return data\n",
    "\n",
    "# Clean both train and test data\n",
    "ctrain = clean_data(train_X)\n",
    "ctest = clean_data(test_X)\n",
    "\n",
    "# Get labels\n",
    "train_labels = ctrain.columns"
   ]
  },
  {
   "cell_type": "code",
   "execution_count": 139,
   "metadata": {},
   "outputs": [],
   "source": [
    "import torch\n",
    "\n",
    "# Set seed for torch\n",
    "torch.manual_seed(42)\n",
    "\n",
    "# Put data onto tensors\n",
    "train_X_tensor = torch.tensor(ctrain.to_numpy())\n",
    "train_y_tensor = torch.tensor(train_y.to_numpy())\n",
    "test_X_tensor = torch.tensor(ctest.to_numpy())\n",
    "\n",
    "# Split data into training- and validation sets\n",
    "train_split = int(0.8 * len(train_X_tensor))\n",
    "X_train, y_train = train_X_tensor[:train_split], train_y_tensor[:train_split]\n",
    "X_valid, y_valid = train_X_tensor[train_split:], train_y_tensor[train_split:]"
   ]
  },
  {
   "cell_type": "code",
   "execution_count": 140,
   "metadata": {},
   "outputs": [],
   "source": [
    "#from torch.utils.data import DataLoader\n",
    "\n",
    "#train_dataloader = DataLoader(train_tensor, batch_size=32, shuffle=True)\n",
    "#test_dataloader = DataLoader(test_tensor, batch_size=32, shuffle=True)"
   ]
  },
  {
   "attachments": {},
   "cell_type": "markdown",
   "metadata": {},
   "source": [
    "### Create model"
   ]
  },
  {
   "cell_type": "code",
   "execution_count": 141,
   "metadata": {},
   "outputs": [],
   "source": [
    "# Load neural network\n",
    "from torch import nn\n",
    "\n",
    "# Select device (aka cpu/gpu)\n",
    "device = \"cuda\" if torch.cuda.is_available() else \"cpu\"\n",
    "#print(f\"Using {device} device\")\n",
    "\n",
    "# Defining the neural network class\n",
    "class NeuralNetwork(nn.Module):\n",
    "    def __init__(self):\n",
    "        super(NeuralNetwork, self).__init__()\n",
    "        #self.flatten = nn.Flatten()\n",
    "\n",
    "        self.layer_1 = nn.Linear(in_features=3, out_features=16)\n",
    "        self.layer_2 = nn.Linear(in_features=16, out_features=16)\n",
    "        self.layer_3 = nn.Linear(in_features=16, out_features=1)\n",
    "\n",
    "        \"\"\"\n",
    "        self.linear_relu_stack = nn.Sequential\n",
    "        (\n",
    "            nn.Linear(3, 16),\n",
    "            nn.ReLU(),\n",
    "            nn.Linear(16, 16),\n",
    "            nn.ReLU(),\n",
    "            nn.Linear(16, 1)\n",
    "        )\n",
    "        \"\"\"\n",
    "    \n",
    "    def forward(self, x):\n",
    "        layer1 = self.layer_1(x)\n",
    "        layer2 = self.layer_2(layer1)\n",
    "        layer3 = self.layer_3(layer2)\n",
    "        output = 0 if layer3 < 0.5 else 1\n",
    "        return output\n",
    "\n",
    "model = NeuralNetwork().to(device)"
   ]
  },
  {
   "attachments": {},
   "cell_type": "markdown",
   "metadata": {},
   "source": [
    "### Train model"
   ]
  },
  {
   "cell_type": "code",
   "execution_count": 142,
   "metadata": {},
   "outputs": [],
   "source": [
    "# Set loss function\n",
    "loss_fn = nn.BCEWithLogitsLoss()\n",
    "\n",
    "# Optimizer\n",
    "optim = torch.optim.SGD(params=model.parameters(), lr=0.1)\n",
    "\n",
    "# Define accuracy function\n",
    "def accuracy_fn(y_true, y_pred):\n",
    "    correct = torch.eq(y_true, y_pred).sum().item()\n",
    "    acc = (correct / len(y_true)) * 100\n",
    "    return acc\n",
    "\n",
    "# Amount of training epochs to run\n",
    "epochs = 10"
   ]
  },
  {
   "cell_type": "code",
   "execution_count": 148,
   "metadata": {},
   "outputs": [
    {
     "ename": "RuntimeError",
     "evalue": "Boolean value of Tensor with more than one value is ambiguous",
     "output_type": "error",
     "traceback": [
      "\u001b[0;31m---------------------------------------------------------------------------\u001b[0m",
      "\u001b[0;31mRuntimeError\u001b[0m                              Traceback (most recent call last)",
      "Cell \u001b[0;32mIn[148], line 1\u001b[0m\n\u001b[0;32m----> 1\u001b[0m y_preds \u001b[39m=\u001b[39m model(X_valid\u001b[39m.\u001b[39;49mfloat())\n\u001b[1;32m      3\u001b[0m \u001b[39m#accuracy_fn(y_valid, y_preds)\u001b[39;00m\n",
      "File \u001b[0;32m~/.local/lib/python3.10/site-packages/torch/nn/modules/module.py:1194\u001b[0m, in \u001b[0;36mModule._call_impl\u001b[0;34m(self, *input, **kwargs)\u001b[0m\n\u001b[1;32m   1190\u001b[0m \u001b[39m# If we don't have any hooks, we want to skip the rest of the logic in\u001b[39;00m\n\u001b[1;32m   1191\u001b[0m \u001b[39m# this function, and just call forward.\u001b[39;00m\n\u001b[1;32m   1192\u001b[0m \u001b[39mif\u001b[39;00m \u001b[39mnot\u001b[39;00m (\u001b[39mself\u001b[39m\u001b[39m.\u001b[39m_backward_hooks \u001b[39mor\u001b[39;00m \u001b[39mself\u001b[39m\u001b[39m.\u001b[39m_forward_hooks \u001b[39mor\u001b[39;00m \u001b[39mself\u001b[39m\u001b[39m.\u001b[39m_forward_pre_hooks \u001b[39mor\u001b[39;00m _global_backward_hooks\n\u001b[1;32m   1193\u001b[0m         \u001b[39mor\u001b[39;00m _global_forward_hooks \u001b[39mor\u001b[39;00m _global_forward_pre_hooks):\n\u001b[0;32m-> 1194\u001b[0m     \u001b[39mreturn\u001b[39;00m forward_call(\u001b[39m*\u001b[39;49m\u001b[39minput\u001b[39;49m, \u001b[39m*\u001b[39;49m\u001b[39m*\u001b[39;49mkwargs)\n\u001b[1;32m   1195\u001b[0m \u001b[39m# Do not call functions when jit is used\u001b[39;00m\n\u001b[1;32m   1196\u001b[0m full_backward_hooks, non_full_backward_hooks \u001b[39m=\u001b[39m [], []\n",
      "Cell \u001b[0;32mIn[141], line 34\u001b[0m, in \u001b[0;36mNeuralNetwork.forward\u001b[0;34m(self, x)\u001b[0m\n\u001b[1;32m     32\u001b[0m layer2 \u001b[39m=\u001b[39m \u001b[39mself\u001b[39m\u001b[39m.\u001b[39mlayer_2(layer1)\n\u001b[1;32m     33\u001b[0m layer3 \u001b[39m=\u001b[39m \u001b[39mself\u001b[39m\u001b[39m.\u001b[39mlayer_3(layer2)\n\u001b[0;32m---> 34\u001b[0m output \u001b[39m=\u001b[39m \u001b[39m0\u001b[39m \u001b[39mif\u001b[39;00m layer3 \u001b[39m<\u001b[39m \u001b[39m0.5\u001b[39m \u001b[39melse\u001b[39;00m \u001b[39m1\u001b[39m\n\u001b[1;32m     35\u001b[0m \u001b[39mreturn\u001b[39;00m output\n",
      "\u001b[0;31mRuntimeError\u001b[0m: Boolean value of Tensor with more than one value is ambiguous"
     ]
    }
   ],
   "source": [
    "y_preds = model(X_valid.float())\n",
    "\n",
    "#accuracy_fn(y_valid, y_preds)\n"
   ]
  },
  {
   "cell_type": "code",
   "execution_count": null,
   "metadata": {},
   "outputs": [],
   "source": []
  }
 ],
 "metadata": {
  "kernelspec": {
   "display_name": "Python 3",
   "language": "python",
   "name": "python3"
  },
  "language_info": {
   "codemirror_mode": {
    "name": "ipython",
    "version": 3
   },
   "file_extension": ".py",
   "mimetype": "text/x-python",
   "name": "python",
   "nbconvert_exporter": "python",
   "pygments_lexer": "ipython3",
   "version": "3.10.6"
  },
  "orig_nbformat": 4,
  "vscode": {
   "interpreter": {
    "hash": "31f2aee4e71d21fbe5cf8b01ff0e069b9275f58929596ceb00d14d90e3e16cd6"
   }
  }
 },
 "nbformat": 4,
 "nbformat_minor": 2
}
